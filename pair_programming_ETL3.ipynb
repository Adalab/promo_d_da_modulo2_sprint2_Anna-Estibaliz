{
 "cells": [
  {
   "attachments": {},
   "cell_type": "markdown",
   "metadata": {},
   "source": [
    "# ETL III - Transformación II - Clases y Funciones de limpieza"
   ]
  },
  {
   "cell_type": "code",
   "execution_count": 7,
   "metadata": {},
   "outputs": [],
   "source": [
    "from IPython.core.interactiveshell import InteractiveShell # Nos permite mostar más de una salida por celda\n",
    "InteractiveShell.ast_node_interactivity = \"all\" # Nos permite mostar más de una salida por celda\n",
    "\n",
    "import requests\n",
    "import pandas as pd\n",
    "import numpy as np\n",
    "import pyjsonviewer\n",
    "import json\n",
    "\n",
    "from datetime import datetime, timedelta"
   ]
  },
  {
   "attachments": {},
   "cell_type": "markdown",
   "metadata": {},
   "source": [
    "En la lección de hoy aprendimos como crearnos una clase que nos permita limpiar los datos obtenidos de la API.\n",
    "\n",
    "En este ejercicio, tendréis que crear una clase con el código que usamos en los ejercicios de pair programming de ETL Transformación I y II."
   ]
  },
  {
   "cell_type": "code",
   "execution_count": 51,
   "metadata": {},
   "outputs": [],
   "source": [
    "class energia:\n",
    "\n",
    "    def __init__(self, inicio, fin):\n",
    "        self.inicio = inicio\n",
    "        self.fin = fin\n",
    "\n",
    "    def tipos_energia(self):\n",
    "        datos_energia = pd.DataFrame()\n",
    "\n",
    "        for i in range(self.inicio, self.fin):\n",
    "\n",
    "            url = f\"https://apidatos.ree.es/es/datos/generacion/evolucion-renovable-no-renovable?start_date={i}-01-01T00:00&end_date={i}-12-31T23:59&time_trunc=year\"\n",
    "            response = requests.get(url=url)\n",
    "\n",
    "            # codigo_estado = response.status_code\n",
    "            # razon_estado = response.reason\n",
    "\n",
    "            # if codigo_estado == 200:\n",
    "            #     print('Petición correcta, código de estado:',codigo_estado,'razón: ',razon_estado)\n",
    "            # elif codigo_estado == 402:\n",
    "            #     print('No se ha podido autorizar usario, código de estado:', codigo_estado,'razón: ',razon_estado)\n",
    "            # elif codigo_estado == 404:\n",
    "            #     print('Algo ha salido mal, código de estado:', codigo_estado,'razón: ',razon_estado)\n",
    "            # else:\n",
    "            #     print('Algo ha ocurrido, código de estado:', codigo_estado,'razón: ',razon_estado)\n",
    "\n",
    "            response_jason = response.json()\n",
    "\n",
    "            for e in range(len(response_jason[\"included\"])):\n",
    "                x = pd.DataFrame(response_jason[\"included\"][e][\"attributes\"][\"values\"])\n",
    "                x[\"tipo_energia\"] = response_jason[\"included\"][e][\"attributes\"][\"title\"]\n",
    "\n",
    "                datos_energia = pd.concat([datos_energia, x], axis=0, ignore_index = True)\n",
    "\n",
    "        return datos_energia\n",
    "\n",
    "\n",
    "    def comunidades_autonomas(self, codigo):\n",
    "        self.codigo = codigo\n",
    "        datos_energia = pd.DataFrame()\n",
    "\n",
    "        for i in range(self.inicio, self.fin):\n",
    "            for k,v in codigo.items():\n",
    "            \n",
    "                url = f\"https://apidatos.ree.es/es/datos/generacion/evolucion-renovable-no-renovable?start_date={i}-01-01T00:00&end_date={i}-12-31T23:59&time_trunc=year&geo_trunc=electric_system&geo_limit=ccaa&geo_ids={v}\"\n",
    "                response = requests.get(url=url)\n",
    "\n",
    "                # codigo_estado = response.status_code\n",
    "                # razon_estado = response.reason\n",
    "\n",
    "                # if codigo_estado == 200:\n",
    "                #     print('Petición correcta, código de estado:',codigo_estado,'razón: ',razon_estado)\n",
    "                # elif codigo_estado == 402:\n",
    "                #     print('No se ha podido autorizar usario, código de estado:', codigo_estado,'razón: ',razon_estado)\n",
    "                # elif codigo_estado == 404:\n",
    "                #     print('Algo ha salido mal, código de estado:', codigo_estado,'razón: ',razon_estado)\n",
    "                # else:\n",
    "                #     print('Algo ha ocurrido, código de estado:', codigo_estado,'razón: ',razon_estado)\n",
    "\n",
    "                respose_json = response.json()\n",
    "\n",
    "                for e in range(len(respose_json[\"included\"])):\n",
    "                    x = pd.DataFrame(respose_json[\"included\"][e][\"attributes\"][\"values\"])\n",
    "                    x[\"tipo_energia\"] = respose_json[\"included\"][e][\"attributes\"][\"title\"]\n",
    "                    x[\"comunidad\"] = k\n",
    "                    x[\"cod_comunidad\"] = v\n",
    "\n",
    "                    datos_energia = pd.concat([datos_energia, x], axis=0, ignore_index = True)\n",
    "\n",
    "        return datos_energia\n",
    "\n",
    "\n",
    "    def redondear(self, df):\n",
    "        self.df = df\n",
    "        df['value'] = round(df['value'], 2)\n",
    "        df['percentage'] = round(df['percentage'], 2)\n",
    "\n",
    "        return df\n",
    "\n",
    "    def extraer_fecha(self, df):\n",
    "        self.df = df\n",
    "        df['datetime'] = df['datetime'].apply(pd.to_datetime)\n",
    "        df['datetime'] = df['datetime'].apply(lambda x: x.strftime('%Y-%m-%d'))\n",
    "\n",
    "        return df\n",
    "\n",
    "    def guardado_datos(self, df, ruta, nombre):\n",
    "        self.df =df\n",
    "        self.ruta = ruta\n",
    "        self.nombre = nombre\n",
    "\n",
    "        df.to_pickle(ruta + nombre + \".pkl\")\n",
    "        df.to_csv(ruta + nombre + \".csv\") \n",
    "    \n",
    "\n"
   ]
  },
  {
   "cell_type": "code",
   "execution_count": 52,
   "metadata": {},
   "outputs": [],
   "source": [
    "codigo = {'Ceuta': 8744,\n",
    "                    'Melilla': 8745,\n",
    "                    'Andalucía': 4,\n",
    "                    'Aragón': 5,\n",
    "                    'Cantabria': 6,\n",
    "                    'Castilla - La Mancha': 7,\n",
    "                    'Castilla y León': 8,\n",
    "                    'Cataluña': 9,\n",
    "                    'País Vasco': 10,\n",
    "                    'Principado de Asturias': 11,\n",
    "                    'Comunidad de Madrid': 13,\n",
    "                    'Comunidad Foral de Navarra': 14,\n",
    "                    'Comunitat Valenciana': 15,\n",
    "                    'Extremadura': 16,\n",
    "                    'Galicia': 17,\n",
    "                    'Illes Balears': 8743,\n",
    "                    'Canarias': 8742,\n",
    "                    'Región de Murcia': 21,\n",
    "                    'La Rioja': 20}"
   ]
  },
  {
   "cell_type": "code",
   "execution_count": 53,
   "metadata": {},
   "outputs": [
    {
     "data": {
      "text/plain": [
       "<__main__.energia at 0x7fa0ec94a730>"
      ]
     },
     "execution_count": 53,
     "metadata": {},
     "output_type": "execute_result"
    }
   ],
   "source": [
    "energia(2011, 2023)"
   ]
  },
  {
   "cell_type": "code",
   "execution_count": 54,
   "metadata": {},
   "outputs": [],
   "source": [
    "variable = energia(2011, 2023)"
   ]
  },
  {
   "cell_type": "code",
   "execution_count": 55,
   "metadata": {},
   "outputs": [
    {
     "name": "stdout",
     "output_type": "stream",
     "text": [
      "Help on class energia in module __main__:\n",
      "\n",
      "class energia(builtins.object)\n",
      " |  energia(inicio, fin)\n",
      " |  \n",
      " |  Methods defined here:\n",
      " |  \n",
      " |  __init__(self, inicio, fin)\n",
      " |      Initialize self.  See help(type(self)) for accurate signature.\n",
      " |  \n",
      " |  comunidades_autonomas(self, codigo)\n",
      " |  \n",
      " |  extraer_fecha(self, df)\n",
      " |  \n",
      " |  guardado_datos(self, df, ruta, nombre)\n",
      " |  \n",
      " |  redondear(self, df)\n",
      " |  \n",
      " |  tipos_energia(self)\n",
      " |  \n",
      " |  ----------------------------------------------------------------------\n",
      " |  Data descriptors defined here:\n",
      " |  \n",
      " |  __dict__\n",
      " |      dictionary for instance variables (if defined)\n",
      " |  \n",
      " |  __weakref__\n",
      " |      list of weak references to the object (if defined)\n",
      "\n"
     ]
    }
   ],
   "source": [
    "help(energia)"
   ]
  },
  {
   "cell_type": "code",
   "execution_count": 56,
   "metadata": {},
   "outputs": [],
   "source": [
    "df_energias = variable.tipos_energia()"
   ]
  },
  {
   "cell_type": "code",
   "execution_count": null,
   "metadata": {},
   "outputs": [],
   "source": [
    "df_comunidades = variable.comunidades_autonomas(codigo)"
   ]
  },
  {
   "cell_type": "code",
   "execution_count": 57,
   "metadata": {},
   "outputs": [],
   "source": [
    "redondeo_energias = variable.redondear(df_energias)"
   ]
  },
  {
   "cell_type": "code",
   "execution_count": 58,
   "metadata": {},
   "outputs": [
    {
     "data": {
      "text/html": [
       "<div>\n",
       "<style scoped>\n",
       "    .dataframe tbody tr th:only-of-type {\n",
       "        vertical-align: middle;\n",
       "    }\n",
       "\n",
       "    .dataframe tbody tr th {\n",
       "        vertical-align: top;\n",
       "    }\n",
       "\n",
       "    .dataframe thead th {\n",
       "        text-align: right;\n",
       "    }\n",
       "</style>\n",
       "<table border=\"1\" class=\"dataframe\">\n",
       "  <thead>\n",
       "    <tr style=\"text-align: right;\">\n",
       "      <th></th>\n",
       "      <th>value</th>\n",
       "      <th>percentage</th>\n",
       "      <th>datetime</th>\n",
       "      <th>tipo_energia</th>\n",
       "    </tr>\n",
       "  </thead>\n",
       "  <tbody>\n",
       "    <tr>\n",
       "      <th>0</th>\n",
       "      <td>8.666705e+07</td>\n",
       "      <td>0.31</td>\n",
       "      <td>2011-01-01T00:00:00.000+01:00</td>\n",
       "      <td>Renovable</td>\n",
       "    </tr>\n",
       "    <tr>\n",
       "      <th>1</th>\n",
       "      <td>1.926868e+08</td>\n",
       "      <td>0.69</td>\n",
       "      <td>2011-01-01T00:00:00.000+01:00</td>\n",
       "      <td>No renovable</td>\n",
       "    </tr>\n",
       "    <tr>\n",
       "      <th>2</th>\n",
       "      <td>8.533872e+07</td>\n",
       "      <td>0.30</td>\n",
       "      <td>2012-01-01T00:00:00.000+01:00</td>\n",
       "      <td>Renovable</td>\n",
       "    </tr>\n",
       "    <tr>\n",
       "      <th>3</th>\n",
       "      <td>1.977799e+08</td>\n",
       "      <td>0.70</td>\n",
       "      <td>2012-01-01T00:00:00.000+01:00</td>\n",
       "      <td>No renovable</td>\n",
       "    </tr>\n",
       "    <tr>\n",
       "      <th>4</th>\n",
       "      <td>1.097577e+08</td>\n",
       "      <td>0.40</td>\n",
       "      <td>2013-01-01T00:00:00.000+01:00</td>\n",
       "      <td>Renovable</td>\n",
       "    </tr>\n",
       "  </tbody>\n",
       "</table>\n",
       "</div>"
      ],
      "text/plain": [
       "          value  percentage                       datetime  tipo_energia\n",
       "0  8.666705e+07        0.31  2011-01-01T00:00:00.000+01:00     Renovable\n",
       "1  1.926868e+08        0.69  2011-01-01T00:00:00.000+01:00  No renovable\n",
       "2  8.533872e+07        0.30  2012-01-01T00:00:00.000+01:00     Renovable\n",
       "3  1.977799e+08        0.70  2012-01-01T00:00:00.000+01:00  No renovable\n",
       "4  1.097577e+08        0.40  2013-01-01T00:00:00.000+01:00     Renovable"
      ]
     },
     "execution_count": 58,
     "metadata": {},
     "output_type": "execute_result"
    }
   ],
   "source": [
    "redondeo_energias.head()"
   ]
  },
  {
   "cell_type": "code",
   "execution_count": null,
   "metadata": {},
   "outputs": [],
   "source": [
    "redondeo_comunidades = variable.redondear(df_comunidades)"
   ]
  },
  {
   "cell_type": "code",
   "execution_count": null,
   "metadata": {},
   "outputs": [],
   "source": [
    "df_fechas_tipos = variable.extraer_fecha(df_energias)\n",
    "df_fechas_tipos"
   ]
  },
  {
   "cell_type": "code",
   "execution_count": null,
   "metadata": {},
   "outputs": [],
   "source": [
    "df_fechas_comunidades = variable.extraer_fecha(df_comunidades)"
   ]
  },
  {
   "cell_type": "code",
   "execution_count": null,
   "metadata": {},
   "outputs": [],
   "source": [
    "fichero_tipos = variable.guardado_datos(df_fechas_tipos, \"datos/\", \"tipo_energia\")"
   ]
  },
  {
   "cell_type": "code",
   "execution_count": null,
   "metadata": {},
   "outputs": [],
   "source": [
    "fichero_comunidades = variable.guardado_datos(df_fechas_comunidades, \"datos/\", \"datos_comunidades\")"
   ]
  }
 ],
 "metadata": {
  "kernelspec": {
   "display_name": "Python 3",
   "language": "python",
   "name": "python3"
  },
  "language_info": {
   "codemirror_mode": {
    "name": "ipython",
    "version": 3
   },
   "file_extension": ".py",
   "mimetype": "text/x-python",
   "name": "python",
   "nbconvert_exporter": "python",
   "pygments_lexer": "ipython3",
   "version": "3.9.7"
  },
  "orig_nbformat": 4
 },
 "nbformat": 4,
 "nbformat_minor": 2
}
