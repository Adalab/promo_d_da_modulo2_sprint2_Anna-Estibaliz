{
 "cells": [
  {
   "attachments": {},
   "cell_type": "markdown",
   "metadata": {},
   "source": [
    "# Pair Programming ETL II - Transformación I"
   ]
  },
  {
   "cell_type": "code",
   "execution_count": 1,
   "metadata": {},
   "outputs": [],
   "source": [
    "import requests\n",
    "import pandas as pd\n",
    "import numpy as np\n",
    "from datetime import datetime as dt"
   ]
  },
  {
   "cell_type": "code",
   "execution_count": 2,
   "metadata": {},
   "outputs": [
    {
     "data": {
      "text/html": [
       "<div>\n",
       "<style scoped>\n",
       "    .dataframe tbody tr th:only-of-type {\n",
       "        vertical-align: middle;\n",
       "    }\n",
       "\n",
       "    .dataframe tbody tr th {\n",
       "        vertical-align: top;\n",
       "    }\n",
       "\n",
       "    .dataframe thead th {\n",
       "        text-align: right;\n",
       "    }\n",
       "</style>\n",
       "<table border=\"1\" class=\"dataframe\">\n",
       "  <thead>\n",
       "    <tr style=\"text-align: right;\">\n",
       "      <th></th>\n",
       "      <th>Comunidad</th>\n",
       "      <th>indice</th>\n",
       "      <th>Comunidades_y_Ciudades_Autónomas</th>\n",
       "      <th>Año</th>\n",
       "      <th>Total</th>\n",
       "    </tr>\n",
       "  </thead>\n",
       "  <tbody>\n",
       "    <tr>\n",
       "      <th>0</th>\n",
       "      <td>Ceuta</td>\n",
       "      <td>8744</td>\n",
       "      <td>Ceuta</td>\n",
       "      <td>2022</td>\n",
       "      <td>83.117</td>\n",
       "    </tr>\n",
       "    <tr>\n",
       "      <th>1</th>\n",
       "      <td>Ceuta</td>\n",
       "      <td>8744</td>\n",
       "      <td>Ceuta</td>\n",
       "      <td>2021</td>\n",
       "      <td>83.517</td>\n",
       "    </tr>\n",
       "  </tbody>\n",
       "</table>\n",
       "</div>"
      ],
      "text/plain": [
       "  Comunidad  indice Comunidades_y_Ciudades_Autónomas   Año   Total\n",
       "0     Ceuta    8744                            Ceuta  2022  83.117\n",
       "1     Ceuta    8744                            Ceuta  2021  83.517"
      ]
     },
     "execution_count": 2,
     "metadata": {},
     "output_type": "execute_result"
    }
   ],
   "source": [
    "df_com = pd.read_csv(\"datos/poblacion_comunidades.csv\", index_col = 0)\n",
    "df_com.head(2)"
   ]
  },
  {
   "attachments": {},
   "cell_type": "markdown",
   "metadata": {},
   "source": [
    "El csv donde tenemos la información censal de cada Comunidad Autónoma tiene algunas columnas que no son redundantes para nuestro análisis, en este csv tendremos que:\n",
    "\n",
    "- Eliminar la columna de Comunidades_y_Ciudades_Autónomas"
   ]
  },
  {
   "cell_type": "code",
   "execution_count": 3,
   "metadata": {},
   "outputs": [],
   "source": [
    "def exploracion(df):\n",
    "\n",
    "    print(f\"El dataframe tiene {df.shape[0]} filas y {df.shape[1]} columnas\")  \n",
    "    print(\"---\")\n",
    "\n",
    "    print(df.info())\n",
    "    print(\"---\")\n",
    "\n",
    "    columnas = [df.columns[num] for num in range(len(df.columns))]\n",
    "    print(f\"Los nombres de las columnas son {columnas}\")\n",
    "    print(\"---\")\n",
    "\n",
    "    # nuevas_columnas = {col: col.replace(\" \", \"_\").lower() for col in df.columns}\n",
    "    # df.rename(columns = nuevas_columnas, inplace = True)\n",
    "    # print(df.columns)\n",
    "    # print(\"---\")\n",
    "\n",
    "    print(f\"A continuación se muestran los principales estadísticos numéricos del dataframe {df}:\")\n",
    "    print(df.describe().T)\n",
    "    print(\"---\")\n",
    "\n",
    "    print(f\"A continuación se muestran los principales estadísticos categóricos del dataframe {df}:\")\n",
    "    print(df.describe(include = \"object\").T)\n",
    "    print(\"---\")\n",
    "\n",
    "    print(\"Los porcentajes de valores nulos por cada columna son:\")\n",
    "    print(df.isnull().sum() * 100/df.shape[0])\n",
    "    print(\"---\")\n",
    "\n",
    "    valores_unicos = [len(df[col].value_counts())for col in columnas]\n",
    "    valores_unicos_por_columna = list(zip(columnas, valores_unicos))\n",
    "    print(\"Estos son los valores únicos por cada columna\")\n",
    "    print(valores_unicos_por_columna)\n",
    "    print(\"---\")\n",
    "    \n",
    "    print(\"Los valores duplicados por cada columna son:\")\n",
    "    print(df.duplicated().sum())\n",
    "    print(\"---\")"
   ]
  },
  {
   "cell_type": "code",
   "execution_count": 4,
   "metadata": {},
   "outputs": [
    {
     "name": "stdout",
     "output_type": "stream",
     "text": [
      "El dataframe tiene 475 filas y 5 columnas\n",
      "---\n",
      "<class 'pandas.core.frame.DataFrame'>\n",
      "Int64Index: 475 entries, 0 to 474\n",
      "Data columns (total 5 columns):\n",
      " #   Column                            Non-Null Count  Dtype \n",
      "---  ------                            --------------  ----- \n",
      " 0   Comunidad                         475 non-null    object\n",
      " 1   indice                            475 non-null    int64 \n",
      " 2   Comunidades_y_Ciudades_Autónomas  475 non-null    object\n",
      " 3   Año                               475 non-null    int64 \n",
      " 4   Total                             475 non-null    object\n",
      "dtypes: int64(2), object(3)\n",
      "memory usage: 22.3+ KB\n",
      "None\n",
      "---\n",
      "Los nombres de las columnas son ['Comunidad', 'indice', 'Comunidades_y_Ciudades_Autónomas', 'Año', 'Total']\n",
      "---\n",
      "A continuación se muestran los principales estadísticos numéricos del dataframe     Comunidad  indice Comunidades_y_Ciudades_Autónomas   Año    Total\n",
      "0       Ceuta    8744                            Ceuta  2022   83.117\n",
      "1       Ceuta    8744                            Ceuta  2021   83.517\n",
      "2       Ceuta    8744                            Ceuta  2020   84.202\n",
      "3       Ceuta    8744                            Ceuta  2019   84.777\n",
      "4       Ceuta    8744                            Ceuta  2018   85.144\n",
      "..        ...     ...                              ...   ...      ...\n",
      "470  La Rioja      20                         La Rioja  2002  281.614\n",
      "471  La Rioja      20                         La Rioja  2001  270.400\n",
      "472  La Rioja      20                         La Rioja  2000  264.178\n",
      "473  La Rioja      20                         La Rioja  1999  265.178\n",
      "474  La Rioja      20                         La Rioja  1998  263.644\n",
      "\n",
      "[475 rows x 5 columns]:\n",
      "        count    mean          std     min     25%     50%     75%     max\n",
      "indice  475.0  1850.0  3563.544184     4.0     8.0    14.0    21.0  8745.0\n",
      "Año     475.0  2010.0     7.218705  1998.0  2004.0  2010.0  2016.0  2022.0\n",
      "---\n",
      "A continuación se muestran los principales estadísticos categóricos del dataframe     Comunidad  indice Comunidades_y_Ciudades_Autónomas   Año    Total\n",
      "0       Ceuta    8744                            Ceuta  2022   83.117\n",
      "1       Ceuta    8744                            Ceuta  2021   83.517\n",
      "2       Ceuta    8744                            Ceuta  2020   84.202\n",
      "3       Ceuta    8744                            Ceuta  2019   84.777\n",
      "4       Ceuta    8744                            Ceuta  2018   85.144\n",
      "..        ...     ...                              ...   ...      ...\n",
      "470  La Rioja      20                         La Rioja  2002  281.614\n",
      "471  La Rioja      20                         La Rioja  2001  270.400\n",
      "472  La Rioja      20                         La Rioja  2000  264.178\n",
      "473  La Rioja      20                         La Rioja  1999  265.178\n",
      "474  La Rioja      20                         La Rioja  1998  263.644\n",
      "\n",
      "[475 rows x 5 columns]:\n",
      "                                 count unique        top freq\n",
      "Comunidad                          475     19      Ceuta   25\n",
      "Comunidades_y_Ciudades_Autónomas   475     19      Ceuta   25\n",
      "Total                              475    474  1.107.220    2\n",
      "---\n",
      "Los porcentajes de valores nulos por cada columna son:\n",
      "Comunidad                           0.0\n",
      "indice                              0.0\n",
      "Comunidades_y_Ciudades_Autónomas    0.0\n",
      "Año                                 0.0\n",
      "Total                               0.0\n",
      "dtype: float64\n",
      "---\n",
      "Estos son los valores únicos por cada columna\n",
      "[('Comunidad', 19), ('indice', 19), ('Comunidades_y_Ciudades_Autónomas', 19), ('Año', 25), ('Total', 474)]\n",
      "---\n",
      "Los valores duplicados por cada columna son:\n",
      "0\n",
      "---\n"
     ]
    }
   ],
   "source": [
    "exploracion(df_com)"
   ]
  },
  {
   "cell_type": "code",
   "execution_count": 5,
   "metadata": {},
   "outputs": [
    {
     "name": "stdout",
     "output_type": "stream",
     "text": [
      "Index(['comunidad', 'indice', 'comunidades_y_ciudades_autónomas', 'año',\n",
      "       'total'],\n",
      "      dtype='object')\n"
     ]
    }
   ],
   "source": [
    "nuevas_columnas = {col: col.replace(\" \", \"_\").lower() for col in df_com.columns}\n",
    "df_com.rename(columns = nuevas_columnas, inplace = True)\n",
    "print(df_com.columns)"
   ]
  },
  {
   "cell_type": "code",
   "execution_count": 6,
   "metadata": {},
   "outputs": [
    {
     "data": {
      "text/html": [
       "<div>\n",
       "<style scoped>\n",
       "    .dataframe tbody tr th:only-of-type {\n",
       "        vertical-align: middle;\n",
       "    }\n",
       "\n",
       "    .dataframe tbody tr th {\n",
       "        vertical-align: top;\n",
       "    }\n",
       "\n",
       "    .dataframe thead th {\n",
       "        text-align: right;\n",
       "    }\n",
       "</style>\n",
       "<table border=\"1\" class=\"dataframe\">\n",
       "  <thead>\n",
       "    <tr style=\"text-align: right;\">\n",
       "      <th></th>\n",
       "      <th>comunidad</th>\n",
       "      <th>indice</th>\n",
       "      <th>año</th>\n",
       "      <th>total</th>\n",
       "    </tr>\n",
       "  </thead>\n",
       "  <tbody>\n",
       "    <tr>\n",
       "      <th>0</th>\n",
       "      <td>Ceuta</td>\n",
       "      <td>8744</td>\n",
       "      <td>2022</td>\n",
       "      <td>83.117</td>\n",
       "    </tr>\n",
       "    <tr>\n",
       "      <th>1</th>\n",
       "      <td>Ceuta</td>\n",
       "      <td>8744</td>\n",
       "      <td>2021</td>\n",
       "      <td>83.517</td>\n",
       "    </tr>\n",
       "  </tbody>\n",
       "</table>\n",
       "</div>"
      ],
      "text/plain": [
       "  comunidad  indice   año   total\n",
       "0     Ceuta    8744  2022  83.117\n",
       "1     Ceuta    8744  2021  83.517"
      ]
     },
     "execution_count": 6,
     "metadata": {},
     "output_type": "execute_result"
    }
   ],
   "source": [
    "df_com.drop('comunidades_y_ciudades_autónomas', axis=1, inplace=True)\n",
    "df_com.head(2)"
   ]
  },
  {
   "attachments": {},
   "cell_type": "markdown",
   "metadata": {},
   "source": [
    "\n",
    "En el csv con la información de generación de energías renovables y no renovables a nivel nacional deberéis:\n"
   ]
  },
  {
   "cell_type": "code",
   "execution_count": 7,
   "metadata": {},
   "outputs": [],
   "source": [
    "df_tipos = pd.read_csv(\"datos/tipos_energia.csv\", index_col=0)"
   ]
  },
  {
   "cell_type": "code",
   "execution_count": 8,
   "metadata": {},
   "outputs": [
    {
     "data": {
      "text/html": [
       "<div>\n",
       "<style scoped>\n",
       "    .dataframe tbody tr th:only-of-type {\n",
       "        vertical-align: middle;\n",
       "    }\n",
       "\n",
       "    .dataframe tbody tr th {\n",
       "        vertical-align: top;\n",
       "    }\n",
       "\n",
       "    .dataframe thead th {\n",
       "        text-align: right;\n",
       "    }\n",
       "</style>\n",
       "<table border=\"1\" class=\"dataframe\">\n",
       "  <thead>\n",
       "    <tr style=\"text-align: right;\">\n",
       "      <th></th>\n",
       "      <th>value</th>\n",
       "      <th>percentage</th>\n",
       "      <th>datetime</th>\n",
       "      <th>tipo_energia</th>\n",
       "    </tr>\n",
       "  </thead>\n",
       "  <tbody>\n",
       "    <tr>\n",
       "      <th>0</th>\n",
       "      <td>8.666705e+07</td>\n",
       "      <td>0.310241</td>\n",
       "      <td>2011-01-01T00:00:00.000+01:00</td>\n",
       "      <td>Renovable</td>\n",
       "    </tr>\n",
       "    <tr>\n",
       "      <th>1</th>\n",
       "      <td>1.926868e+08</td>\n",
       "      <td>0.689759</td>\n",
       "      <td>2011-01-01T00:00:00.000+01:00</td>\n",
       "      <td>No renovable</td>\n",
       "    </tr>\n",
       "    <tr>\n",
       "      <th>2</th>\n",
       "      <td>8.533872e+07</td>\n",
       "      <td>0.301424</td>\n",
       "      <td>2012-01-01T00:00:00.000+01:00</td>\n",
       "      <td>Renovable</td>\n",
       "    </tr>\n",
       "  </tbody>\n",
       "</table>\n",
       "</div>"
      ],
      "text/plain": [
       "          value  percentage                       datetime  tipo_energia\n",
       "0  8.666705e+07    0.310241  2011-01-01T00:00:00.000+01:00     Renovable\n",
       "1  1.926868e+08    0.689759  2011-01-01T00:00:00.000+01:00  No renovable\n",
       "2  8.533872e+07    0.301424  2012-01-01T00:00:00.000+01:00     Renovable"
      ]
     },
     "execution_count": 8,
     "metadata": {},
     "output_type": "execute_result"
    }
   ],
   "source": [
    "df_tipos.head(3)"
   ]
  },
  {
   "attachments": {},
   "cell_type": "markdown",
   "metadata": {},
   "source": [
    "- Para las columnas value y percentage, redondear los decimales de los valores a 2."
   ]
  },
  {
   "cell_type": "code",
   "execution_count": 9,
   "metadata": {},
   "outputs": [],
   "source": [
    "df_tipos['value'] = round(df_tipos['value'], 2)\n",
    "df_tipos['percentage'] = round(df_tipos['percentage'], 2)"
   ]
  },
  {
   "cell_type": "code",
   "execution_count": 10,
   "metadata": {},
   "outputs": [
    {
     "data": {
      "text/html": [
       "<div>\n",
       "<style scoped>\n",
       "    .dataframe tbody tr th:only-of-type {\n",
       "        vertical-align: middle;\n",
       "    }\n",
       "\n",
       "    .dataframe tbody tr th {\n",
       "        vertical-align: top;\n",
       "    }\n",
       "\n",
       "    .dataframe thead th {\n",
       "        text-align: right;\n",
       "    }\n",
       "</style>\n",
       "<table border=\"1\" class=\"dataframe\">\n",
       "  <thead>\n",
       "    <tr style=\"text-align: right;\">\n",
       "      <th></th>\n",
       "      <th>value</th>\n",
       "      <th>percentage</th>\n",
       "      <th>datetime</th>\n",
       "      <th>tipo_energia</th>\n",
       "    </tr>\n",
       "  </thead>\n",
       "  <tbody>\n",
       "    <tr>\n",
       "      <th>0</th>\n",
       "      <td>8.666705e+07</td>\n",
       "      <td>0.31</td>\n",
       "      <td>2011-01-01T00:00:00.000+01:00</td>\n",
       "      <td>Renovable</td>\n",
       "    </tr>\n",
       "    <tr>\n",
       "      <th>1</th>\n",
       "      <td>1.926868e+08</td>\n",
       "      <td>0.69</td>\n",
       "      <td>2011-01-01T00:00:00.000+01:00</td>\n",
       "      <td>No renovable</td>\n",
       "    </tr>\n",
       "  </tbody>\n",
       "</table>\n",
       "</div>"
      ],
      "text/plain": [
       "          value  percentage                       datetime  tipo_energia\n",
       "0  8.666705e+07        0.31  2011-01-01T00:00:00.000+01:00     Renovable\n",
       "1  1.926868e+08        0.69  2011-01-01T00:00:00.000+01:00  No renovable"
      ]
     },
     "execution_count": 10,
     "metadata": {},
     "output_type": "execute_result"
    }
   ],
   "source": [
    "df_tipos.head(2)"
   ]
  },
  {
   "attachments": {},
   "cell_type": "markdown",
   "metadata": {},
   "source": [
    "La columna datetime es de tipo string, pero esto a nosotras no nos interesa. Además, en esta columna tiene tanto la fecha como la hora, pero en realidad la hora no nos esta aportando nada de información, es por esto que:\n",
    "\n",
    "- Deberéis crear una columna nueva donde solo tengamos la información de la fecha en formato AÑO / MES / DIA.\n",
    "\n",
    "- Una vez creada la columna anterior, convertirla a datetime."
   ]
  },
  {
   "cell_type": "code",
   "execution_count": 11,
   "metadata": {},
   "outputs": [],
   "source": [
    "# se puede haver con un split hasta la 'T' y accediendo al indice [0] que son las filas\n",
    "\n",
    "# df_tipos['datetime'] = df_tipos['datetime'].apply(lambda tiempo: tiempo.split('T')[0])"
   ]
  },
  {
   "cell_type": "code",
   "execution_count": 12,
   "metadata": {},
   "outputs": [],
   "source": [
    "df_tipos['datetime'] = df_tipos['datetime'].apply(pd.to_datetime)"
   ]
  },
  {
   "cell_type": "code",
   "execution_count": 13,
   "metadata": {},
   "outputs": [],
   "source": [
    "df_tipos['datetime'] = df_tipos['datetime'].apply(lambda x: x.strftime('%Y-%m-%d'))"
   ]
  },
  {
   "cell_type": "code",
   "execution_count": 14,
   "metadata": {},
   "outputs": [
    {
     "data": {
      "text/html": [
       "<div>\n",
       "<style scoped>\n",
       "    .dataframe tbody tr th:only-of-type {\n",
       "        vertical-align: middle;\n",
       "    }\n",
       "\n",
       "    .dataframe tbody tr th {\n",
       "        vertical-align: top;\n",
       "    }\n",
       "\n",
       "    .dataframe thead th {\n",
       "        text-align: right;\n",
       "    }\n",
       "</style>\n",
       "<table border=\"1\" class=\"dataframe\">\n",
       "  <thead>\n",
       "    <tr style=\"text-align: right;\">\n",
       "      <th></th>\n",
       "      <th>value</th>\n",
       "      <th>percentage</th>\n",
       "      <th>datetime</th>\n",
       "      <th>tipo_energia</th>\n",
       "    </tr>\n",
       "  </thead>\n",
       "  <tbody>\n",
       "    <tr>\n",
       "      <th>0</th>\n",
       "      <td>8.666705e+07</td>\n",
       "      <td>0.31</td>\n",
       "      <td>2011-01-01</td>\n",
       "      <td>Renovable</td>\n",
       "    </tr>\n",
       "    <tr>\n",
       "      <th>1</th>\n",
       "      <td>1.926868e+08</td>\n",
       "      <td>0.69</td>\n",
       "      <td>2011-01-01</td>\n",
       "      <td>No renovable</td>\n",
       "    </tr>\n",
       "  </tbody>\n",
       "</table>\n",
       "</div>"
      ],
      "text/plain": [
       "          value  percentage    datetime  tipo_energia\n",
       "0  8.666705e+07        0.31  2011-01-01     Renovable\n",
       "1  1.926868e+08        0.69  2011-01-01  No renovable"
      ]
     },
     "execution_count": 14,
     "metadata": {},
     "output_type": "execute_result"
    }
   ],
   "source": [
    "df_tipos.head(2)"
   ]
  },
  {
   "cell_type": "markdown",
   "metadata": {},
   "source": [
    "\n",
    "- En el csv con la información de generación de energías renovables y no renovables a nivel de comunidad autónoma deberéis aplicar los mismos cambios que aplicamos en el ejercicio anterior.\n"
   ]
  },
  {
   "cell_type": "code",
   "execution_count": 15,
   "metadata": {},
   "outputs": [],
   "source": [
    "df_autonomas = pd.read_csv(\"datos/energia_comunidades.csv\", index_col=0)"
   ]
  },
  {
   "cell_type": "code",
   "execution_count": 16,
   "metadata": {},
   "outputs": [],
   "source": [
    "df_autonomas['value'] = round(df_autonomas['value'], 2)\n",
    "df_autonomas['percentage'] = round(df_autonomas['percentage'], 2)"
   ]
  },
  {
   "cell_type": "code",
   "execution_count": 17,
   "metadata": {},
   "outputs": [],
   "source": [
    "df_autonomas['datetime'] = df_autonomas['datetime'].apply(pd.to_datetime)"
   ]
  },
  {
   "cell_type": "code",
   "execution_count": 18,
   "metadata": {},
   "outputs": [],
   "source": [
    "df_autonomas['datetime'] = df_autonomas['datetime'].apply(lambda x: x.strftime('%Y-%m-%d'))"
   ]
  },
  {
   "cell_type": "code",
   "execution_count": 19,
   "metadata": {},
   "outputs": [
    {
     "data": {
      "text/html": [
       "<div>\n",
       "<style scoped>\n",
       "    .dataframe tbody tr th:only-of-type {\n",
       "        vertical-align: middle;\n",
       "    }\n",
       "\n",
       "    .dataframe tbody tr th {\n",
       "        vertical-align: top;\n",
       "    }\n",
       "\n",
       "    .dataframe thead th {\n",
       "        text-align: right;\n",
       "    }\n",
       "</style>\n",
       "<table border=\"1\" class=\"dataframe\">\n",
       "  <thead>\n",
       "    <tr style=\"text-align: right;\">\n",
       "      <th></th>\n",
       "      <th>value</th>\n",
       "      <th>percentage</th>\n",
       "      <th>datetime</th>\n",
       "      <th>tipo_energia</th>\n",
       "      <th>comunidad</th>\n",
       "      <th>cod_comunidad</th>\n",
       "    </tr>\n",
       "  </thead>\n",
       "  <tbody>\n",
       "    <tr>\n",
       "      <th>0</th>\n",
       "      <td>202972.89</td>\n",
       "      <td>1.00</td>\n",
       "      <td>2011-01-01</td>\n",
       "      <td>No renovable</td>\n",
       "      <td>Ceuta</td>\n",
       "      <td>8744</td>\n",
       "    </tr>\n",
       "    <tr>\n",
       "      <th>1</th>\n",
       "      <td>3589.08</td>\n",
       "      <td>0.02</td>\n",
       "      <td>2011-01-01</td>\n",
       "      <td>Renovable</td>\n",
       "      <td>Melilla</td>\n",
       "      <td>8745</td>\n",
       "    </tr>\n",
       "  </tbody>\n",
       "</table>\n",
       "</div>"
      ],
      "text/plain": [
       "       value  percentage    datetime  tipo_energia comunidad  cod_comunidad\n",
       "0  202972.89        1.00  2011-01-01  No renovable     Ceuta           8744\n",
       "1    3589.08        0.02  2011-01-01     Renovable   Melilla           8745"
      ]
     },
     "execution_count": 19,
     "metadata": {},
     "output_type": "execute_result"
    }
   ],
   "source": [
    "df_autonomas.head(2)"
   ]
  },
  {
   "cell_type": "markdown",
   "metadata": {},
   "source": [
    "\n",
    "- Guardar los resultados obtenidos en pickle que usaremos en próximos ejercicios de pair programming. Cada fichero debe ir en un pickle"
   ]
  },
  {
   "cell_type": "code",
   "execution_count": 20,
   "metadata": {},
   "outputs": [],
   "source": [
    "df_tipos.to_pickle('datos/tipos_energia.pkl')"
   ]
  },
  {
   "cell_type": "code",
   "execution_count": 22,
   "metadata": {},
   "outputs": [],
   "source": [
    "df_autonomas.to_pickle('datos/energia_comunidades.pkl')"
   ]
  }
 ],
 "metadata": {
  "kernelspec": {
   "display_name": "Python 3",
   "language": "python",
   "name": "python3"
  },
  "language_info": {
   "codemirror_mode": {
    "name": "ipython",
    "version": 3
   },
   "file_extension": ".py",
   "mimetype": "text/x-python",
   "name": "python",
   "nbconvert_exporter": "python",
   "pygments_lexer": "ipython3",
   "version": "3.9.6"
  },
  "orig_nbformat": 4,
  "vscode": {
   "interpreter": {
    "hash": "31f2aee4e71d21fbe5cf8b01ff0e069b9275f58929596ceb00d14d90e3e16cd6"
   }
  }
 },
 "nbformat": 4,
 "nbformat_minor": 2
}
