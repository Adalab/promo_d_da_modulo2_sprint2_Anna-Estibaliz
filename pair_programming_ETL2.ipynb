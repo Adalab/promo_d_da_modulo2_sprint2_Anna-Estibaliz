{
 "cells": [
  {
   "attachments": {},
   "cell_type": "markdown",
   "metadata": {},
   "source": [
    "# Pair Programming ETL Transformación I"
   ]
  },
  {
   "cell_type": "code",
   "execution_count": 1,
   "metadata": {},
   "outputs": [],
   "source": [
    "import requests\n",
    "import pandas as pd\n",
    "import numpy as np\n",
    "from datetime import datetime as dt"
   ]
  },
  {
   "cell_type": "code",
   "execution_count": 3,
   "metadata": {},
   "outputs": [
    {
     "data": {
      "text/html": [
       "<div>\n",
       "<style scoped>\n",
       "    .dataframe tbody tr th:only-of-type {\n",
       "        vertical-align: middle;\n",
       "    }\n",
       "\n",
       "    .dataframe tbody tr th {\n",
       "        vertical-align: top;\n",
       "    }\n",
       "\n",
       "    .dataframe thead th {\n",
       "        text-align: right;\n",
       "    }\n",
       "</style>\n",
       "<table border=\"1\" class=\"dataframe\">\n",
       "  <thead>\n",
       "    <tr style=\"text-align: right;\">\n",
       "      <th></th>\n",
       "      <th>Comunidad</th>\n",
       "      <th>indice</th>\n",
       "      <th>Comunidades_y_Ciudades_Autónomas</th>\n",
       "      <th>Año</th>\n",
       "      <th>Total</th>\n",
       "    </tr>\n",
       "  </thead>\n",
       "  <tbody>\n",
       "    <tr>\n",
       "      <th>0</th>\n",
       "      <td>Ceuta</td>\n",
       "      <td>8744</td>\n",
       "      <td>Ceuta</td>\n",
       "      <td>2022</td>\n",
       "      <td>83.117</td>\n",
       "    </tr>\n",
       "    <tr>\n",
       "      <th>1</th>\n",
       "      <td>Ceuta</td>\n",
       "      <td>8744</td>\n",
       "      <td>Ceuta</td>\n",
       "      <td>2021</td>\n",
       "      <td>83.517</td>\n",
       "    </tr>\n",
       "  </tbody>\n",
       "</table>\n",
       "</div>"
      ],
      "text/plain": [
       "  Comunidad  indice Comunidades_y_Ciudades_Autónomas   Año   Total\n",
       "0     Ceuta    8744                            Ceuta  2022  83.117\n",
       "1     Ceuta    8744                            Ceuta  2021  83.517"
      ]
     },
     "execution_count": 3,
     "metadata": {},
     "output_type": "execute_result"
    }
   ],
   "source": [
    "df = pd.read_csv(\"datos/poblacion_comunidades.csv\", index_col = 0)\n",
    "df.head(2)"
   ]
  },
  {
   "attachments": {},
   "cell_type": "markdown",
   "metadata": {},
   "source": [
    "El csv donde tenemos la información censal de cada Comunidad Autónoma tiene algunas columnas que no son redundantes para nuestro análisis, en este csv tendremos que:\n",
    "\n",
    "- Eliminar la columna de Comunidades_y_Ciudades_Autónomas"
   ]
  },
  {
   "cell_type": "code",
   "execution_count": 12,
   "metadata": {},
   "outputs": [],
   "source": [
    "def exploracion(df):\n",
    "\n",
    "    print(f\"El dataframe tiene {df.shape[0]} filas y {df.shape[1]} columnas\")  \n",
    "    print(\"---\")\n",
    "\n",
    "    print(df.info())\n",
    "    print(\"---\")\n",
    "\n",
    "    columnas = [df.columns[num] for num in range(len(df.columns))]\n",
    "    print(f\"Los nombres de las columnas son {columnas}\")\n",
    "    print(\"---\")\n",
    "\n",
    "    nuevas_columnas = {col: col.replace(\" \", \"_\").lower() for col in df.columns}\n",
    "    df.rename(columns = nuevas_columnas, inplace = True)\n",
    "    print(df.columns)\n",
    "    print(\"---\")\n",
    "\n",
    "    print(f\"A continuación se muestran los principales estadísticos numéricos del dataframe {df}:\")\n",
    "    print(df.describe().T)\n",
    "    print(\"---\")\n",
    "\n",
    "    print(f\"A continuación se muestran los principales estadísticos categóricos del dataframe {df}:\")\n",
    "    print(df.describe(include = \"object\").T)\n",
    "    print(\"---\")\n",
    "\n",
    "    print(\"Los porcentajes de valores nulos por cada columna son:\")\n",
    "    print(df.isnull().sum() * 100/df.shape[0])\n",
    "    print(\"---\")\n",
    "\n",
    "    valores_unicos = [len(df[col].value_counts())for col in columnas]\n",
    "    valores_unicos_por_columna = list(zip(columnas, valores_unicos))\n",
    "    print(\"Estos son los valores únicos por cada columna\")\n",
    "    print(valores_unicos_por_columna)\n",
    "    print(\"---\")\n",
    "    \n",
    "    print(\"Los valores duplicados por cada columna son:\")\n",
    "    print(df.duplicated().sum())\n",
    "    print(\"---\")"
   ]
  },
  {
   "cell_type": "code",
   "execution_count": 13,
   "metadata": {},
   "outputs": [
    {
     "name": "stdout",
     "output_type": "stream",
     "text": [
      "El dataframe tiene 475 filas y 5 columnas\n",
      "---\n",
      "<class 'pandas.core.frame.DataFrame'>\n",
      "Int64Index: 475 entries, 0 to 474\n",
      "Data columns (total 5 columns):\n",
      " #   Column                            Non-Null Count  Dtype \n",
      "---  ------                            --------------  ----- \n",
      " 0   comunidad                         475 non-null    object\n",
      " 1   indice                            475 non-null    int64 \n",
      " 2   comunidades_y_ciudades_autónomas  475 non-null    object\n",
      " 3   año                               475 non-null    int64 \n",
      " 4   total                             475 non-null    object\n",
      "dtypes: int64(2), object(3)\n",
      "memory usage: 22.3+ KB\n",
      "None\n",
      "---\n",
      "Los nombres de las columnas son ['comunidad', 'indice', 'comunidades_y_ciudades_autónomas', 'año', 'total']\n",
      "---\n",
      "Index(['comunidad', 'indice', 'comunidades_y_ciudades_autónomas', 'año',\n",
      "       'total'],\n",
      "      dtype='object')\n",
      "---\n",
      "A continuación se muestran los principales estadísticos numéricos del dataframe     comunidad  indice comunidades_y_ciudades_autónomas   año    total\n",
      "0       Ceuta    8744                            Ceuta  2022   83.117\n",
      "1       Ceuta    8744                            Ceuta  2021   83.517\n",
      "2       Ceuta    8744                            Ceuta  2020   84.202\n",
      "3       Ceuta    8744                            Ceuta  2019   84.777\n",
      "4       Ceuta    8744                            Ceuta  2018   85.144\n",
      "..        ...     ...                              ...   ...      ...\n",
      "470  La Rioja      20                         La Rioja  2002  281.614\n",
      "471  La Rioja      20                         La Rioja  2001  270.400\n",
      "472  La Rioja      20                         La Rioja  2000  264.178\n",
      "473  La Rioja      20                         La Rioja  1999  265.178\n",
      "474  La Rioja      20                         La Rioja  1998  263.644\n",
      "\n",
      "[475 rows x 5 columns]:\n",
      "        count    mean          std     min     25%     50%     75%     max\n",
      "indice  475.0  1850.0  3563.544184     4.0     8.0    14.0    21.0  8745.0\n",
      "año     475.0  2010.0     7.218705  1998.0  2004.0  2010.0  2016.0  2022.0\n",
      "---\n",
      "A continuación se muestran los principales estadísticos categóricos del dataframe     comunidad  indice comunidades_y_ciudades_autónomas   año    total\n",
      "0       Ceuta    8744                            Ceuta  2022   83.117\n",
      "1       Ceuta    8744                            Ceuta  2021   83.517\n",
      "2       Ceuta    8744                            Ceuta  2020   84.202\n",
      "3       Ceuta    8744                            Ceuta  2019   84.777\n",
      "4       Ceuta    8744                            Ceuta  2018   85.144\n",
      "..        ...     ...                              ...   ...      ...\n",
      "470  La Rioja      20                         La Rioja  2002  281.614\n",
      "471  La Rioja      20                         La Rioja  2001  270.400\n",
      "472  La Rioja      20                         La Rioja  2000  264.178\n",
      "473  La Rioja      20                         La Rioja  1999  265.178\n",
      "474  La Rioja      20                         La Rioja  1998  263.644\n",
      "\n",
      "[475 rows x 5 columns]:\n",
      "                                 count unique        top freq\n",
      "comunidad                          475     19      Ceuta   25\n",
      "comunidades_y_ciudades_autónomas   475     19      Ceuta   25\n",
      "total                              475    474  1.107.220    2\n",
      "---\n",
      "Los porcentajes de valores nulos por cada columna son:\n",
      "comunidad                           0.0\n",
      "indice                              0.0\n",
      "comunidades_y_ciudades_autónomas    0.0\n",
      "año                                 0.0\n",
      "total                               0.0\n",
      "dtype: float64\n",
      "---\n",
      "Estos son los valores únicos por cada columna\n",
      "[('comunidad', 19), ('indice', 19), ('comunidades_y_ciudades_autónomas', 19), ('año', 25), ('total', 474)]\n",
      "---\n",
      "Los valores duplicados por cada columna son:\n",
      "0\n",
      "---\n"
     ]
    }
   ],
   "source": [
    "exploracion(df)"
   ]
  },
  {
   "cell_type": "code",
   "execution_count": 14,
   "metadata": {},
   "outputs": [
    {
     "data": {
      "text/html": [
       "<div>\n",
       "<style scoped>\n",
       "    .dataframe tbody tr th:only-of-type {\n",
       "        vertical-align: middle;\n",
       "    }\n",
       "\n",
       "    .dataframe tbody tr th {\n",
       "        vertical-align: top;\n",
       "    }\n",
       "\n",
       "    .dataframe thead th {\n",
       "        text-align: right;\n",
       "    }\n",
       "</style>\n",
       "<table border=\"1\" class=\"dataframe\">\n",
       "  <thead>\n",
       "    <tr style=\"text-align: right;\">\n",
       "      <th></th>\n",
       "      <th>comunidad</th>\n",
       "      <th>indice</th>\n",
       "      <th>año</th>\n",
       "      <th>total</th>\n",
       "    </tr>\n",
       "  </thead>\n",
       "  <tbody>\n",
       "    <tr>\n",
       "      <th>0</th>\n",
       "      <td>Ceuta</td>\n",
       "      <td>8744</td>\n",
       "      <td>2022</td>\n",
       "      <td>83.117</td>\n",
       "    </tr>\n",
       "    <tr>\n",
       "      <th>1</th>\n",
       "      <td>Ceuta</td>\n",
       "      <td>8744</td>\n",
       "      <td>2021</td>\n",
       "      <td>83.517</td>\n",
       "    </tr>\n",
       "  </tbody>\n",
       "</table>\n",
       "</div>"
      ],
      "text/plain": [
       "  comunidad  indice   año   total\n",
       "0     Ceuta    8744  2022  83.117\n",
       "1     Ceuta    8744  2021  83.517"
      ]
     },
     "execution_count": 14,
     "metadata": {},
     "output_type": "execute_result"
    }
   ],
   "source": [
    "df.drop('comunidades_y_ciudades_autónomas', axis=1, inplace=True)\n",
    "df.head(2)"
   ]
  },
  {
   "cell_type": "markdown",
   "metadata": {},
   "source": [
    "\n",
    "En el csv con la información de generación de energías renovables y no renovables a nivel nacional deberéis:\n",
    "\n",
    "- Para las columnas value y percentage, redondear los decimales de los valores a 2.\n",
    "\n",
    "- La columna datetime es de tipo string, pero esto a nosotras no nos interesa. Además, en esta columna tiene tanto la fecha como la hora, pero en realidad la hora no nos esta aportando nada de información, es por esto que:\n",
    "\n",
    "- Deberéis crear una columna nueva donde solo tengamos la información de la fecha en formato AÑO / MES / DIA.\n",
    "\n",
    "- Una vez creada la columna anterior, convertirla a datetime.\n",
    "\n",
    "- En el csv con la información de generación de energías renovables y no renovables a nivel de comunidad autónoma deberéis aplicar los mismos cambios que aplicamos en el ejercicio anterior.\n",
    "\n",
    "- Guardar los resultados obtenidos en pickle que usaremos en próximos ejercicios de pair programming. Cada fichero debe ir en un pickle"
   ]
  },
  {
   "cell_type": "code",
   "execution_count": null,
   "metadata": {},
   "outputs": [],
   "source": []
  }
 ],
 "metadata": {
  "kernelspec": {
   "display_name": "Python 3",
   "language": "python",
   "name": "python3"
  },
  "language_info": {
   "codemirror_mode": {
    "name": "ipython",
    "version": 3
   },
   "file_extension": ".py",
   "mimetype": "text/x-python",
   "name": "python",
   "nbconvert_exporter": "python",
   "pygments_lexer": "ipython3",
   "version": "3.9.7"
  },
  "orig_nbformat": 4
 },
 "nbformat": 4,
 "nbformat_minor": 2
}
