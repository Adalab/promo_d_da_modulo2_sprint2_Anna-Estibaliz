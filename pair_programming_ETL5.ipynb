{
 "cells": [
  {
   "attachments": {},
   "cell_type": "markdown",
   "metadata": {},
   "source": [
    "# Pair Programming ETL Carga I\n"
   ]
  },
  {
   "attachments": {},
   "cell_type": "markdown",
   "metadata": {},
   "source": [
    "Igual que en el ejercicio de pair programming de ETL Transformación II, tendréis que crear una clase que nos permita cargar los datos en SQL I."
   ]
  },
  {
   "cell_type": "code",
   "execution_count": 1,
   "metadata": {},
   "outputs": [
    {
     "ename": "ModuleNotFoundError",
     "evalue": "No module named 'requests'",
     "output_type": "error",
     "traceback": [
      "\u001b[1;31m---------------------------------------------------------------------------\u001b[0m",
      "\u001b[1;31mModuleNotFoundError\u001b[0m                       Traceback (most recent call last)",
      "Cell \u001b[1;32mIn[1], line 4\u001b[0m\n\u001b[0;32m      1\u001b[0m \u001b[39mfrom\u001b[39;00m \u001b[39mIPython\u001b[39;00m\u001b[39m.\u001b[39;00m\u001b[39mcore\u001b[39;00m\u001b[39m.\u001b[39;00m\u001b[39minteractiveshell\u001b[39;00m \u001b[39mimport\u001b[39;00m InteractiveShell \u001b[39m# Nos permite mostar más de una salida por celda\u001b[39;00m\n\u001b[0;32m      2\u001b[0m InteractiveShell\u001b[39m.\u001b[39mast_node_interactivity \u001b[39m=\u001b[39m \u001b[39m\"\u001b[39m\u001b[39mall\u001b[39m\u001b[39m\"\u001b[39m \u001b[39m# Nos permite mostar más de una salida por celda\u001b[39;00m\n\u001b[1;32m----> 4\u001b[0m \u001b[39mimport\u001b[39;00m \u001b[39mrequests\u001b[39;00m\n\u001b[0;32m      5\u001b[0m \u001b[39mimport\u001b[39;00m \u001b[39mpandas\u001b[39;00m \u001b[39mas\u001b[39;00m \u001b[39mpd\u001b[39;00m\n\u001b[0;32m      6\u001b[0m \u001b[39mimport\u001b[39;00m \u001b[39mnumpy\u001b[39;00m \u001b[39mas\u001b[39;00m \u001b[39mnp\u001b[39;00m\n",
      "\u001b[1;31mModuleNotFoundError\u001b[0m: No module named 'requests'"
     ]
    }
   ],
   "source": [
    "from IPython.core.interactiveshell import InteractiveShell # Nos permite mostar más de una salida por celda\n",
    "InteractiveShell.ast_node_interactivity = \"all\" # Nos permite mostar más de una salida por celda\n",
    "\n",
    "import requests\n",
    "import pandas as pd\n",
    "import numpy as np\n",
    "import pyjsonviewer\n",
    "import json\n",
    "import mysql.connector\n",
    "\n",
    "from datetime import datetime, timedelta"
   ]
  },
  {
   "cell_type": "code",
   "execution_count": 2,
   "metadata": {},
   "outputs": [],
   "source": [
    "class base_datos:\n",
    "\n",
    "    def __init__(self, nombre_bbdd, contraseña):\n",
    "        self.nombre_bbdd = nombre_bbdd\n",
    "        self.contraseña = contraseña\n",
    "\n",
    "    def crear_bbdd(self):\n",
    "\n",
    "        mydb = mysql.connector.connect(\n",
    "            host=\"localhost\",\n",
    "            user=\"root\",\n",
    "            password= f\"{self.contraseña}\", # aquí tendréis que poner vuestra contraseña de MySQL\n",
    "            auth_plugin = 'mysql_native_password') # esta línea no es necesaria solo lo tendréis que incluir si os sale el siguiente error: Authentication plugin 'caching_sha2_password' is not supported\n",
    "        print(\"Conexión realizada con éxito\")\n",
    "    \n",
    "        mycursor = mydb.cursor()\n",
    "\n",
    "        try:\n",
    "            mycursor.execute(f\"CREATE DATABASE IF NOT EXISTS {self.nombre_bbdd};\")\n",
    "            print(mycursor)\n",
    "        except mysql.connector.Error as err:\n",
    "            print(err)\n",
    "            print(\"Error Code:\", err.errno)\n",
    "            print(\"SQLSTATE\", err.sqlstate)\n",
    "            print(\"Message\", err.msg)\n",
    "\n",
    "    def crear_insertar_tabla(self, query):\n",
    "        self.query = query\n",
    "\n",
    "        cnx = mysql.connector.connect(user='root', password=f\"{self.contraseña}\",\n",
    "                                     host='127.0.0.1', database=f\"{self.nombre_bbdd}\",  \n",
    "                                     auth_plugin = 'mysql_native_password')\n",
    "        mycursor = cnx.cursor()\n",
    "    \n",
    "        try: \n",
    "            mycursor.execute(query)\n",
    "            cnx.commit() \n",
    "        except mysql.connector.Error as err:\n",
    "            print(err)\n",
    "            print(\"Error Code:\", err.errno)\n",
    "            print(\"SQLSTATE\", err.sqlstate)\n",
    "            print(\"Message\", err.msg)\n",
    "\n",
    "    def check_comunidades(self):\n",
    "    \n",
    "        cnx = mysql.connector.connect(user='root', password=f'{self.contraseña}',\n",
    "                                  host='127.0.0.1', database=f\"{self.nombre_bbdd}\",  auth_plugin = 'mysql_native_password')\n",
    "        mycursor = cnx.cursor()\n",
    "\n",
    "\n",
    "        query_existe_comunidad = f\"\"\"\n",
    "                                    SELECT DISTINCT comunidad FROM comunidades\"\"\"\n",
    "        \n",
    "        mycursor.execute(query_existe_comunidad)\n",
    "        comunidades = mycursor.fetchall()\n",
    "        return comunidades\n",
    "    \n",
    "    # def iterar(self, query, df):\n",
    "    #     self.df = df\n",
    "    #     self.query = query\n",
    "\n",
    "    #     for indice, fila in df.iterrows():\n",
    "    \n",
    "    #         query = f\"\"\"\n",
    "    #             INSERT INTO comunidades (comunidad) \n",
    "    #             VALUES ( \"{fila[\"Comunidad\"]}\");\n",
    "    #             \"\"\"  \n",
    "    \n",
    "    #         comunidades = check_comunidades(f\"{self.contraseña}\", f\"{self.nombre_bbdd}\")\n",
    "    \n",
    "    #         if len(comunidades) == 0 or fila['Comunidad'] not in comunidades[0]: \n",
    "    #             crear_insertar_tabla('energia', 'AlumnaAdalab', query_comunidades)\n",
    "\n",
    "    #         else:\n",
    "    #             print(f\"{fila['Comunidad']} ya esta en nuestra BBDD\") \n",
    "\n",
    "\n",
    "\n"
   ]
  },
  {
   "cell_type": "code",
   "execution_count": null,
   "metadata": {},
   "outputs": [],
   "source": [
    "help(base_datos)"
   ]
  },
  {
   "cell_type": "code",
   "execution_count": null,
   "metadata": {},
   "outputs": [],
   "source": []
  }
 ],
 "metadata": {
  "kernelspec": {
   "display_name": "Python 3",
   "language": "python",
   "name": "python3"
  },
  "language_info": {
   "codemirror_mode": {
    "name": "ipython",
    "version": 3
   },
   "file_extension": ".py",
   "mimetype": "text/x-python",
   "name": "python",
   "nbconvert_exporter": "python",
   "pygments_lexer": "ipython3",
   "version": "3.10.11"
  },
  "orig_nbformat": 4
 },
 "nbformat": 4,
 "nbformat_minor": 2
}
